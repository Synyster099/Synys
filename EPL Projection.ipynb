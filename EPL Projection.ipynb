{
  "metadata": {
    "kernelspec": {
      "name": "python",
      "display_name": "Python (Pyodide)",
      "language": "python"
    },
    "language_info": {
      "codemirror_mode": {
        "name": "python",
        "version": 3
      },
      "file_extension": ".py",
      "mimetype": "text/x-python",
      "name": "python",
      "nbconvert_exporter": "python",
      "pygments_lexer": "ipython3",
      "version": "3.8"
    }
  },
  "nbformat_minor": 4,
  "nbformat": 4,
  "cells": [
    {
      "cell_type": "code",
      "source": "import pandas as pd\n\n# Provided data for this year's teams\ndata_this_year = {\n    \"Ranking\": [1, 2, 3, 4, 5, 6, 7, 8, 9, 10, 11, 12, 13, 14, 15, 16, 17, 18, 19, 20],\n    \"Team Name\": [\n        \"Liverpool\", \"Arsenal\", \"Aston Villa\", \"Manchester City\", \"Tottenham\",\n        \"Manchester Utd\", \"Newcastle Utd\", \"Brighton\", \"West Ham\", \"Fulham\",\n        \"Brentford\", \"Chelsea\", \"Wolves\", \"Bournemouth\", \"Crystal Palace\",\n        \"Nott'ham Forest\", \"Everton\", \"Luton Town\", \"Burnley\", \"Sheffield Utd\"\n    ],\n    \"Goals For\": [36, 33, 35, 38, 33, 18, 33, 33, 26, 26, 23, 26, 21, 21, 15, 17, 20, 17, 16, 12],\n    \"Goals Against\": [15, 15, 20, 18, 23, 21, 21, 28, 30, 26, 22, 26, 26, 30, 23, 28, 20, 32, 34, 41],\n    \"Goal Difference\": [21, 18, 15, 20, 10, -3, 12, 5, -4, 0, 1, 0, -5, -9, -8, -11, 0, -15, -18, -29],\n    \"Points\": [37, 36, 35, 33, 30, 27, 26, 26, 24, 21, 19, 19, 19, 19, 16, 14, 23, 9, 8, 8],\n    \"xGoals\": [32.1, 29.0, 28.8, 30.6, 27.6, 25.5, 31.3, 27.5, 23.2, 21.2, 28.5, 30.2, 20.4, 22.0, 19.4, 17.4, 25.5, 14.9, 14.4, 12.6],\n    \"xGoals Against\": [19.7, 12.1, 22.2, 14.7, 26.8, 26.6, 21.4, 23.0, 28.4, 27.1, 20.5, 23.8, 27.3, 27.8, 21.8, 24.5, 21.1, 33.2, 26.7, 33.2],\n    \"xGoals Difference\": [12.4, 16.9, 6.6, 15.8, 0.8, -1.1, 9.9, 4.6, -5.2, -5.8, 8.0, 6.4, -6.9, -5.8, -2.5, -7.2, 4.3, -18.3, -12.3, -20.6],\n    \"xGoals Difference per game\": [0.77, 1.06, 0.41, 0.99, 0.05, -0.07, 0.62, 0.29, -0.32, -0.37, 0.50, 0.40, -0.43, -0.36, -0.15, -0.45, 0.27, -1.15, -0.77, -1.29]\n}\ndf_this_year = pd.DataFrame(data_this_year)",
      "metadata": {
        "trusted": true
      },
      "outputs": [],
      "execution_count": 93
    },
    {
      "cell_type": "code",
      "source": "\n# Provided data for last year's teams\nlast_year_data = {\n    \"Ranking\": [1, 2, 3, 4, 5, 6, 7, 8, 9, 10, 11, 12, 13, 14, 15, 16, 17, 18, 19, 20],\n    \"Team Name\": [\n        \"Manchester City\", \"Arsenal\", \"Manchester Utd\", \"Newcastle Utd\", \"Liverpool\",\n        \"Brighton\", \"Aston Villa\", \"Tottenham\", \"Brentford\", \"Fulham\",\n        \"Crystal Palace\", \"Chelsea\", \"Wolves\", \"West Ham\", \"Bournemouth\",\n        \"Nott'ham Forest\", \"Everton\", \"Leicester City\", \"Leeds United\", \"Southampton\"\n    ],\n    \"Goals For\": [94, 88, 58, 68, 75, 72, 51, 70, 58, 55, 40, 38, 31, 42, 37, 38, 34, 51, 48, 36],\n    \"Goals Against\": [33, 43, 43, 33, 47, 53, 46, 63, 46, 53, 49, 47, 58, 55, 71, 68, 57, 68, 78, 73],\n    \"Goal Difference\": [61, 45, 15, 35, 28, 19, 5, 7, 12, 2, -9, -9, -27, -13, -34, -30, -23, -17, -30, -37],\n    \"Points\": [89, 84, 75, 71, 67, 62, 61, 60, 59, 52, 45, 44, 41, 40, 39, 38, 36, 34, 31, 25],\n    \"xGoals\": [78.6, 71.9, 67.7, 72.0, 72.6, 73.3, 50.2, 57.1, 56.8, 46.2, 39.3, 49.5, 36.8, 49.2, 38.6, 39.3, 45.2, 50.6, 47.4, 37.7],\n    \"xGoals Against\": [32.1, 42.0, 50.4, 39.6, 50.9, 50.2, 52.5, 49.7, 49.9, 63.8, 48.1, 52.5, 59.9, 53.0, 63.9, 64.2, 65.7, 63.4, 67.2, 61.0],\n    \"xGoals Difference\": [46.5, 29.9, 17.3, 32.4, 21.7, 23.1, -2.2, 7.4, 6.8, -17.6, -8.8, -3.0, -23.1, -3.9, -25.3, -24.9, -20.5, -12.8, -19.8, -23.3],\n    \"xGoals Difference per game\": [1.22, 0.79, 0.45, 0.85, 0.57, 0.61, -0.06, 0.20, 0.18, -0.46, -0.23, -0.08, -0.61, -0.10, -0.67, -0.66, -0.54, -0.34, -0.52, -0.61]\n}\n\ndf_last_year = pd.DataFrame(last_year_data)\n\n# Calculate correlations\ncorrelation_xgoals_difference_last_year = df_last_year[\"Points\"].corr(df_last_year[\"xGoals Difference\"])\ncorrelation_goal_difference_last_year = df_last_year[\"Points\"].corr(df_last_year[\"Goal Difference\"])",
      "metadata": {
        "trusted": true
      },
      "outputs": [],
      "execution_count": 94
    },
    {
      "cell_type": "code",
      "source": "# Data from 2 years ago\ndata_two_years_ago = {\n    \"Ranking\": list(range(1, 21)),\n    \"Team Name\": [\n        \"Manchester City\", \"Liverpool\", \"Chelsea\", \"Tottenham\", \"Arsenal\",\n        \"Manchester Utd\", \"West Ham\", \"Leicester City\", \"Brighton\", \"Wolves\",\n        \"Newcastle Utd\", \"Crystal Palace\", \"Brentford\", \"Aston Villa\", \"Southampton\",\n        \"Everton\", \"Leeds United\", \"Burnley\", \"Watford\", \"Norwich City\"\n    ],\n    \"Goals For\": [99, 94, 76, 69, 61, 57, 60, 62, 42, 38, 44, 50, 48, 52, 43, 43, 42, 34, 34, 23],\n    \"Goals Against\": [26, 26, 33, 40, 48, 57, 51, 59, 44, 43, 62, 46, 56, 54, 67, 66, 79, 53, 77, 84],\n    \"Goal Difference\": [73, 68, 43, 29, 13, 0, 9, 3, -2, -5, -18, 4, -8, -2, -24, -23, -37, -19, -43, -61],\n    \"Points\": [93, 92, 74, 71, 69, 58, 56, 52, 51, 51, 49, 48, 46, 45, 40, 39, 38, 35, 23, 22],\n    \"xGoals\": [88.7, 88.7, 63.4, 61.2, 60.5, 55.8, 51.4, 47.8, 46.2, 37.5, 38.1, 46.4, 45.8, 44.0, 44.8, 41.2, 44.4, 39.7, 40.0, 32.3],\n    \"xGoals Against\": [24.6, 33.8, 33.2, 39.3, 45.7, 53.0, 53.5, 59.3, 42.9, 56.9, 57.1, 40.7, 48.5, 49.0, 60.0, 55.4, 67.8, 57.1, 64.5, 75.5],\n    \"xGoals Difference\": [64.0, 54.9, 30.1, 21.9, 14.9, 2.8, -2.1, -11.5, 3.3, -19.4, -19.0, 5.7, -2.7, -4.9, -15.2, -14.2, -23.5, -17.4, -24.5, -43.2],\n    \"xGoals Difference per game\": [1.68, 1.45, 0.79, 0.58, 0.39, 0.07, -0.06, -0.30, 0.09, -0.51, -0.50, 0.15, -0.07, -0.13, -0.40, -0.37, -0.62, -0.46, -0.64, -1.14]\n}\n\ndf_two_years_ago = pd.DataFrame(data_two_years_ago)\n\n# Calculate correlations\ncorrelation_xgoals_difference_two_years_ago = df_two_years_ago[\"Points\"].corr(df_two_years_ago[\"xGoals Difference\"])\ncorrelation_goal_difference_two_years_ago = df_two_years_ago[\"Points\"].corr(df_two_years_ago[\"Goal Difference\"])",
      "metadata": {
        "trusted": true
      },
      "outputs": [],
      "execution_count": 95
    },
    {
      "cell_type": "code",
      "source": "# Given correlations\ncorrelation_xgoals_difference_two_years_ago = df_two_years_ago[\"Points\"].corr(df_two_years_ago[\"xGoals Difference\"])\ncorrelation_xgoals_difference_last_year = df_last_year[\"Points\"].corr(df_last_year[\"xGoals Difference\"])\n\n# Calculate the average correlation\naverage_correlation_xgoals_difference = (correlation_xgoals_difference_two_years_ago + correlation_xgoals_difference_last_year) / 2\n\n# Display the average correlation\nprint(\"Average Correlation (xGoals Difference) :\", average_correlation_xgoals_difference)\n\n",
      "metadata": {
        "trusted": true
      },
      "outputs": [
        {
          "name": "stdout",
          "text": "Average Correlation (xGoals Difference) : 0.9331103791030265\n",
          "output_type": "stream"
        }
      ],
      "execution_count": 96
    },
    {
      "cell_type": "code",
      "source": "# Given correlations\ncorrelation_goal_diff_two_years_ago = df_two_years_ago[\"Points\"].corr(df_two_years_ago[\"Goal Difference\"])\ncorrelation_goal_diff_last_year = df_last_year[\"Points\"].corr(df_last_year[\"Goal Difference\"])\n\n# Calculate the average correlation\naverage_correlation_goal_difference = (correlation_goal_difference_two_years_ago + correlation_goal_difference_last_year) / 2\n\n# Display the average correlation\nprint(\"Average Correlation (Goal Difference) :\", average_correlation_goal_difference)\n",
      "metadata": {
        "trusted": true
      },
      "outputs": [
        {
          "name": "stdout",
          "text": "Average Correlation (Goal Difference) : 0.9660002173176707\n",
          "output_type": "stream"
        }
      ],
      "execution_count": 97
    },
    {
      "cell_type": "code",
      "source": "# Calculate the absolute values\nabs_correlation_xgoals_difference = abs(average_correlation_xgoals_difference)\nabs_correlation_goal_difference = abs(average_correlation_goal_difference)\n\n# Sum of absolute values\nsum_of_abs_correlations = abs_correlation_xgoals_difference + abs_correlation_goal_difference\n\n# Calculate weights\nweight_xgoals_difference = abs_correlation_xgoals_difference / sum_of_abs_correlations\nweight_goal_difference = abs_correlation_goal_difference / sum_of_abs_correlations\n\n# Display the weights\nprint(\"Weight for xGoals Difference:\", weight_xgoals_difference)\nprint(\"Weight for Goal Difference:\", weight_goal_difference)\n",
      "metadata": {
        "trusted": true
      },
      "outputs": [
        {
          "name": "stdout",
          "text": "Weight for xGoals Difference: 0.49134072594912787\nWeight for Goal Difference: 0.5086592740508722\n",
          "output_type": "stream"
        }
      ],
      "execution_count": 98
    },
    {
      "cell_type": "code",
      "source": "# Calculate the overall index for each team\ndf_ranking[\"Overall Index\"] = (\n    weight_xgoals_difference * df_ranking[\"xGoals Difference\"] +\n    weight_goal_difference * df_ranking[\"Goal Difference\"]\n)\n\n# Sort the teams based on the overall index in descending order\ndf_ranking = df_ranking.sort_values(by=\"Overall Index\", ascending=False).reset_index(drop=True)\n\n# Display the ranking table with overall index\nprint(df_ranking[[\"Team Name\", \"Overall Index\"]])\n",
      "metadata": {
        "trusted": true
      },
      "outputs": [
        {
          "name": "stdout",
          "text": "          Team Name  Overall Index\n0   Manchester City      17.936369\n1           Arsenal      17.459525\n2         Liverpool      16.774470\n3     Newcastle Utd      10.968184\n4       Aston Villa      10.872738\n5         Tottenham       5.479665\n6          Brighton       4.803464\n7         Brentford       4.439385\n8           Chelsea       3.144581\n9           Everton       2.112765\n10   Manchester Utd      -2.066453\n11           Fulham      -2.849776\n12         West Ham      -4.589609\n13   Crystal Palace      -5.297626\n14           Wolves      -5.933547\n15      Bournemouth      -7.427710\n16  Nott'ham Forest      -9.132905\n17          Burnley     -15.199358\n18       Luton Town     -16.621424\n19    Sheffield Utd     -24.872738\n",
          "output_type": "stream"
        }
      ],
      "execution_count": 99
    },
    {
      "cell_type": "code",
      "source": "# Assuming df_ranking is your DataFrame with the teams sorted by overall index\n\n# Number of remaining games\nremaining_games = 22\n\n# Calculate points for each team based on their overall index\ndf_ranking[\"Projected Points\"] = df_ranking[\"Overall Index\"]\n\n# Normalize projected points to ensure they are within the valid range\nmax_points = 66\nmin_points = 0\ndf_ranking[\"Projected Points\"] = (\n    (df_ranking[\"Projected Points\"] - df_ranking[\"Projected Points\"].min()) /\n    (df_ranking[\"Projected Points\"].max() - df_ranking[\"Projected Points\"].min())\n) * (max_points - min_points) + min_points\n\n# Round down the projected points to the nearest integer\ndf_ranking[\"Projected Points\"] = df_ranking[\"Projected Points\"].apply(int)\n\n# Adjust the points to ensure the sum is 616\ntotal_points = 616\ncurrent_sum = df_ranking[\"Projected Points\"].sum()\nif current_sum != total_points:\n    # Distribute the difference proportionally to each team\n    df_ranking[\"Projected Points\"] += ((total_points - current_sum) / current_sum) * df_ranking[\"Projected Points\"]\n\n# Round down the projected points to the nearest integer again\ndf_ranking[\"Projected Points\"] = df_ranking[\"Projected Points\"].apply(int)\n\n# Add projected points to the existing points from the first 16 games\ndf_ranking[\"Total Points\"] = data_this_year[\"Points\"] + df_ranking[\"Projected Points\"]\n\n# Deduct 10 points from Everton\nteam_to_deduct_points = \"Everton\"\npoints_to_deduct = 10\n\n# Deduct points\ndf_ranking.loc[df_ranking[\"Team Name\"] == team_to_deduct_points, \"Total Points\"] -= points_to_deduct\n\n# Sort the teams based on the total points in descending order\ndf_ranking = df_ranking.sort_values(by=\"Total Points\", ascending=False).reset_index(drop=True)\n\n# Assign the final ranking order to the list \"Ranking\"\nRanking = list(df_ranking.index + 1)\n\n# Add the final ranking as a new column\ndf_ranking[\"Final Ranking\"] = Ranking\n\n# Display the DataFrame with total points and final ranking\nprint(df_ranking[[\"Final Ranking\",\"Team Name\", \"Total Points\"]])\n",
      "metadata": {
        "trusted": true
      },
      "outputs": [
        {
          "name": "stdout",
          "text": "    Final Ranking        Team Name  Total Points\n0               1  Manchester City            90\n1               2          Arsenal            88\n2               3        Liverpool            86\n3               4    Newcastle Utd            77\n4               5      Aston Villa            74\n5               6        Tottenham            64\n6               7         Brighton            62\n7               8        Brentford            62\n8               9          Chelsea            58\n9              10   Manchester Utd            47\n10             11           Fulham            45\n11             12          Everton            44\n12             13         West Ham            44\n13             14   Crystal Palace            43\n14             15  Nott'ham Forest            42\n15             16           Wolves            39\n16             17      Bournemouth            35\n17             18          Burnley            20\n18             19       Luton Town            17\n19             20    Sheffield Utd             8\n",
          "output_type": "stream"
        }
      ],
      "execution_count": 100
    },
    {
      "cell_type": "code",
      "source": "",
      "metadata": {
        "trusted": true
      },
      "outputs": [],
      "execution_count": null
    }
  ]
}